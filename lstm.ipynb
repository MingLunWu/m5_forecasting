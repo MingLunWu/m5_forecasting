{
 "metadata": {
  "language_info": {
   "codemirror_mode": {
    "name": "ipython",
    "version": 3
   },
   "file_extension": ".py",
   "mimetype": "text/x-python",
   "name": "python",
   "nbconvert_exporter": "python",
   "pygments_lexer": "ipython3",
   "version": "3.6.12"
  },
  "orig_nbformat": 2,
  "kernelspec": {
   "name": "python3612jvsc74a57bd01193c8dd910f66437f49464771edb798b74cc32abd449ed76115006454822f6f",
   "display_name": "Python 3.6.12 64-bit ('crawler': conda)"
  },
  "metadata": {
   "interpreter": {
    "hash": "1193c8dd910f66437f49464771edb798b74cc32abd449ed76115006454822f6f"
   }
  }
 },
 "nbformat": 4,
 "nbformat_minor": 2,
 "cells": [
  {
   "cell_type": "code",
   "execution_count": 1,
   "metadata": {},
   "outputs": [],
   "source": [
    "import numpy as np \n",
    "import pandas as pd"
   ]
  },
  {
   "cell_type": "code",
   "execution_count": 2,
   "metadata": {},
   "outputs": [],
   "source": [
    "dataPath = \"./data\"\n",
    "timesteps = 14\n",
    "startDay = 350"
   ]
  },
  {
   "cell_type": "code",
   "execution_count": 3,
   "metadata": {},
   "outputs": [
    {
     "output_type": "execute_result",
     "data": {
      "text/plain": [
       "                              id        item_id    dept_id   cat_id store_id  \\\n",
       "0  HOBBIES_1_001_CA_1_evaluation  HOBBIES_1_001  HOBBIES_1  HOBBIES     CA_1   \n",
       "1  HOBBIES_1_002_CA_1_evaluation  HOBBIES_1_002  HOBBIES_1  HOBBIES     CA_1   \n",
       "2  HOBBIES_1_003_CA_1_evaluation  HOBBIES_1_003  HOBBIES_1  HOBBIES     CA_1   \n",
       "\n",
       "  state_id  d_1  d_2  d_3  d_4  ...  d_1932  d_1933  d_1934  d_1935  d_1936  \\\n",
       "0       CA    0    0    0    0  ...       2       4       0       0       0   \n",
       "1       CA    0    0    0    0  ...       0       1       2       1       1   \n",
       "2       CA    0    0    0    0  ...       1       0       2       0       0   \n",
       "\n",
       "   d_1937  d_1938  d_1939  d_1940  d_1941  \n",
       "0       0       3       3       0       1  \n",
       "1       0       0       0       0       0  \n",
       "2       0       2       3       0       1  \n",
       "\n",
       "[3 rows x 1947 columns]"
      ],
      "text/html": "<div>\n<style scoped>\n    .dataframe tbody tr th:only-of-type {\n        vertical-align: middle;\n    }\n\n    .dataframe tbody tr th {\n        vertical-align: top;\n    }\n\n    .dataframe thead th {\n        text-align: right;\n    }\n</style>\n<table border=\"1\" class=\"dataframe\">\n  <thead>\n    <tr style=\"text-align: right;\">\n      <th></th>\n      <th>id</th>\n      <th>item_id</th>\n      <th>dept_id</th>\n      <th>cat_id</th>\n      <th>store_id</th>\n      <th>state_id</th>\n      <th>d_1</th>\n      <th>d_2</th>\n      <th>d_3</th>\n      <th>d_4</th>\n      <th>...</th>\n      <th>d_1932</th>\n      <th>d_1933</th>\n      <th>d_1934</th>\n      <th>d_1935</th>\n      <th>d_1936</th>\n      <th>d_1937</th>\n      <th>d_1938</th>\n      <th>d_1939</th>\n      <th>d_1940</th>\n      <th>d_1941</th>\n    </tr>\n  </thead>\n  <tbody>\n    <tr>\n      <th>0</th>\n      <td>HOBBIES_1_001_CA_1_evaluation</td>\n      <td>HOBBIES_1_001</td>\n      <td>HOBBIES_1</td>\n      <td>HOBBIES</td>\n      <td>CA_1</td>\n      <td>CA</td>\n      <td>0</td>\n      <td>0</td>\n      <td>0</td>\n      <td>0</td>\n      <td>...</td>\n      <td>2</td>\n      <td>4</td>\n      <td>0</td>\n      <td>0</td>\n      <td>0</td>\n      <td>0</td>\n      <td>3</td>\n      <td>3</td>\n      <td>0</td>\n      <td>1</td>\n    </tr>\n    <tr>\n      <th>1</th>\n      <td>HOBBIES_1_002_CA_1_evaluation</td>\n      <td>HOBBIES_1_002</td>\n      <td>HOBBIES_1</td>\n      <td>HOBBIES</td>\n      <td>CA_1</td>\n      <td>CA</td>\n      <td>0</td>\n      <td>0</td>\n      <td>0</td>\n      <td>0</td>\n      <td>...</td>\n      <td>0</td>\n      <td>1</td>\n      <td>2</td>\n      <td>1</td>\n      <td>1</td>\n      <td>0</td>\n      <td>0</td>\n      <td>0</td>\n      <td>0</td>\n      <td>0</td>\n    </tr>\n    <tr>\n      <th>2</th>\n      <td>HOBBIES_1_003_CA_1_evaluation</td>\n      <td>HOBBIES_1_003</td>\n      <td>HOBBIES_1</td>\n      <td>HOBBIES</td>\n      <td>CA_1</td>\n      <td>CA</td>\n      <td>0</td>\n      <td>0</td>\n      <td>0</td>\n      <td>0</td>\n      <td>...</td>\n      <td>1</td>\n      <td>0</td>\n      <td>2</td>\n      <td>0</td>\n      <td>0</td>\n      <td>0</td>\n      <td>2</td>\n      <td>3</td>\n      <td>0</td>\n      <td>1</td>\n    </tr>\n  </tbody>\n</table>\n<p>3 rows × 1947 columns</p>\n</div>"
     },
     "metadata": {},
     "execution_count": 3
    }
   ],
   "source": [
    "dt = pd.read_csv(dataPath + \"/sales_train_evaluation.csv\")\n",
    "dt.head(3)"
   ]
  },
  {
   "cell_type": "code",
   "execution_count": 7,
   "metadata": {},
   "outputs": [
    {
     "output_type": "execute_result",
     "data": {
      "text/plain": [
       "         date  wm_yr_wk   weekday  wday  month  year    d event_name_1  \\\n",
       "0  2011-01-29     11101  Saturday     1      1  2011  d_1          NaN   \n",
       "1  2011-01-30     11101    Sunday     2      1  2011  d_2          NaN   \n",
       "2  2011-01-31     11101    Monday     3      1  2011  d_3          NaN   \n",
       "\n",
       "  event_type_1 event_name_2 event_type_2  snap_CA  snap_TX  snap_WI  \n",
       "0          NaN          NaN          NaN        0        0        0  \n",
       "1          NaN          NaN          NaN        0        0        0  \n",
       "2          NaN          NaN          NaN        0        0        0  "
      ],
      "text/html": "<div>\n<style scoped>\n    .dataframe tbody tr th:only-of-type {\n        vertical-align: middle;\n    }\n\n    .dataframe tbody tr th {\n        vertical-align: top;\n    }\n\n    .dataframe thead th {\n        text-align: right;\n    }\n</style>\n<table border=\"1\" class=\"dataframe\">\n  <thead>\n    <tr style=\"text-align: right;\">\n      <th></th>\n      <th>date</th>\n      <th>wm_yr_wk</th>\n      <th>weekday</th>\n      <th>wday</th>\n      <th>month</th>\n      <th>year</th>\n      <th>d</th>\n      <th>event_name_1</th>\n      <th>event_type_1</th>\n      <th>event_name_2</th>\n      <th>event_type_2</th>\n      <th>snap_CA</th>\n      <th>snap_TX</th>\n      <th>snap_WI</th>\n    </tr>\n  </thead>\n  <tbody>\n    <tr>\n      <th>0</th>\n      <td>2011-01-29</td>\n      <td>11101</td>\n      <td>Saturday</td>\n      <td>1</td>\n      <td>1</td>\n      <td>2011</td>\n      <td>d_1</td>\n      <td>NaN</td>\n      <td>NaN</td>\n      <td>NaN</td>\n      <td>NaN</td>\n      <td>0</td>\n      <td>0</td>\n      <td>0</td>\n    </tr>\n    <tr>\n      <th>1</th>\n      <td>2011-01-30</td>\n      <td>11101</td>\n      <td>Sunday</td>\n      <td>2</td>\n      <td>1</td>\n      <td>2011</td>\n      <td>d_2</td>\n      <td>NaN</td>\n      <td>NaN</td>\n      <td>NaN</td>\n      <td>NaN</td>\n      <td>0</td>\n      <td>0</td>\n      <td>0</td>\n    </tr>\n    <tr>\n      <th>2</th>\n      <td>2011-01-31</td>\n      <td>11101</td>\n      <td>Monday</td>\n      <td>3</td>\n      <td>1</td>\n      <td>2011</td>\n      <td>d_3</td>\n      <td>NaN</td>\n      <td>NaN</td>\n      <td>NaN</td>\n      <td>NaN</td>\n      <td>0</td>\n      <td>0</td>\n      <td>0</td>\n    </tr>\n  </tbody>\n</table>\n</div>"
     },
     "metadata": {},
     "execution_count": 7
    }
   ],
   "source": [
    "calendar = pd.read_csv(dataPath + \"/calendar.csv\")\n",
    "calendar.head(3)"
   ]
  },
  {
   "source": [
    "---\n",
    "## 降低記憶體空間\n",
    "\n",
    "將變數轉換為半精度 (遺失些許準確率，換來效率的提升)"
   ],
   "cell_type": "markdown",
   "metadata": {}
  },
  {
   "cell_type": "code",
   "execution_count": 4,
   "metadata": {},
   "outputs": [],
   "source": [
    "def downcast_dtypes(df):\n",
    "    float_cols = [c for c in df if df[c].dtype == \"float64\"]\n",
    "    int_cols = [c for c in df if df[c].dtype in [\"int64\", \"int32\"]]\n",
    "    df[float_cols] = df[float_cols].astype(np.float32)\n",
    "    df[int_cols] = df[int_cols].astype(np.int16)\n",
    "    return df"
   ]
  },
  {
   "cell_type": "code",
   "execution_count": 5,
   "metadata": {},
   "outputs": [],
   "source": [
    "dt = downcast_dtypes(dt)"
   ]
  },
  {
   "source": [
    "---\n",
    "## 資料前處理\n",
    "\n",
    "僅使用數值資料，暫時移除其他不必要的資料\n",
    "\n",
    "(單純用歷史資料建立 LSTM 模型)"
   ],
   "cell_type": "markdown",
   "metadata": {}
  },
  {
   "cell_type": "code",
   "execution_count": 8,
   "metadata": {},
   "outputs": [
    {
     "output_type": "execute_result",
     "data": {
      "text/plain": [
       "      0     1     2     3     4     5     6     7     8     9      ... 30480  \\\n",
       "d_351     0     0     0     2     0     0     0    24     3     2  ...     0   \n",
       "d_352     0     0     0     0     0     0     0     9     0     2  ...     0   \n",
       "d_353     0     0     0     4     2     0     0     2     1     1  ...     0   \n",
       "d_354     0     1     0     2     0     0     0     7     1     0  ...     0   \n",
       "d_355     0     0     0     1     2     0     0     0     0     0  ...     0   \n",
       "\n",
       "      30481 30482 30483 30484 30485 30486 30487 30488 30489  \n",
       "d_351     9     1     0    11     0     0     1     0     0  \n",
       "d_352     5     4     0     8     0     1     2     0     0  \n",
       "d_353    15     2     0     3     0     1     2     0     0  \n",
       "d_354     5     1     0     3     0     0     0     0     0  \n",
       "d_355     7     1     0     1     0     1     1     0     0  \n",
       "\n",
       "[5 rows x 30490 columns]"
      ],
      "text/html": "<div>\n<style scoped>\n    .dataframe tbody tr th:only-of-type {\n        vertical-align: middle;\n    }\n\n    .dataframe tbody tr th {\n        vertical-align: top;\n    }\n\n    .dataframe thead th {\n        text-align: right;\n    }\n</style>\n<table border=\"1\" class=\"dataframe\">\n  <thead>\n    <tr style=\"text-align: right;\">\n      <th></th>\n      <th>0</th>\n      <th>1</th>\n      <th>2</th>\n      <th>3</th>\n      <th>4</th>\n      <th>5</th>\n      <th>6</th>\n      <th>7</th>\n      <th>8</th>\n      <th>9</th>\n      <th>...</th>\n      <th>30480</th>\n      <th>30481</th>\n      <th>30482</th>\n      <th>30483</th>\n      <th>30484</th>\n      <th>30485</th>\n      <th>30486</th>\n      <th>30487</th>\n      <th>30488</th>\n      <th>30489</th>\n    </tr>\n  </thead>\n  <tbody>\n    <tr>\n      <th>d_351</th>\n      <td>0</td>\n      <td>0</td>\n      <td>0</td>\n      <td>2</td>\n      <td>0</td>\n      <td>0</td>\n      <td>0</td>\n      <td>24</td>\n      <td>3</td>\n      <td>2</td>\n      <td>...</td>\n      <td>0</td>\n      <td>9</td>\n      <td>1</td>\n      <td>0</td>\n      <td>11</td>\n      <td>0</td>\n      <td>0</td>\n      <td>1</td>\n      <td>0</td>\n      <td>0</td>\n    </tr>\n    <tr>\n      <th>d_352</th>\n      <td>0</td>\n      <td>0</td>\n      <td>0</td>\n      <td>0</td>\n      <td>0</td>\n      <td>0</td>\n      <td>0</td>\n      <td>9</td>\n      <td>0</td>\n      <td>2</td>\n      <td>...</td>\n      <td>0</td>\n      <td>5</td>\n      <td>4</td>\n      <td>0</td>\n      <td>8</td>\n      <td>0</td>\n      <td>1</td>\n      <td>2</td>\n      <td>0</td>\n      <td>0</td>\n    </tr>\n    <tr>\n      <th>d_353</th>\n      <td>0</td>\n      <td>0</td>\n      <td>0</td>\n      <td>4</td>\n      <td>2</td>\n      <td>0</td>\n      <td>0</td>\n      <td>2</td>\n      <td>1</td>\n      <td>1</td>\n      <td>...</td>\n      <td>0</td>\n      <td>15</td>\n      <td>2</td>\n      <td>0</td>\n      <td>3</td>\n      <td>0</td>\n      <td>1</td>\n      <td>2</td>\n      <td>0</td>\n      <td>0</td>\n    </tr>\n    <tr>\n      <th>d_354</th>\n      <td>0</td>\n      <td>1</td>\n      <td>0</td>\n      <td>2</td>\n      <td>0</td>\n      <td>0</td>\n      <td>0</td>\n      <td>7</td>\n      <td>1</td>\n      <td>0</td>\n      <td>...</td>\n      <td>0</td>\n      <td>5</td>\n      <td>1</td>\n      <td>0</td>\n      <td>3</td>\n      <td>0</td>\n      <td>0</td>\n      <td>0</td>\n      <td>0</td>\n      <td>0</td>\n    </tr>\n    <tr>\n      <th>d_355</th>\n      <td>0</td>\n      <td>0</td>\n      <td>0</td>\n      <td>1</td>\n      <td>2</td>\n      <td>0</td>\n      <td>0</td>\n      <td>0</td>\n      <td>0</td>\n      <td>0</td>\n      <td>...</td>\n      <td>0</td>\n      <td>7</td>\n      <td>1</td>\n      <td>0</td>\n      <td>1</td>\n      <td>0</td>\n      <td>1</td>\n      <td>1</td>\n      <td>0</td>\n      <td>0</td>\n    </tr>\n  </tbody>\n</table>\n<p>5 rows × 30490 columns</p>\n</div>"
     },
     "metadata": {},
     "execution_count": 8
    }
   ],
   "source": [
    "dt = dt.T   \n",
    "dt = dt[6 + startDay:]\n",
    "dt.head(5)"
   ]
  },
  {
   "source": [
    "---\n",
    "## 建立特殊節日的Feature (Binary)"
   ],
   "cell_type": "markdown",
   "metadata": {}
  },
  {
   "cell_type": "code",
   "execution_count": 9,
   "metadata": {},
   "outputs": [],
   "source": [
    "daysBeforeEvent = pd.DataFrame(np.zeros((1969,1)))"
   ]
  },
  {
   "cell_type": "code",
   "execution_count": 10,
   "metadata": {},
   "outputs": [],
   "source": [
    "for x,y in calendar.iterrows():\n",
    "    if((pd.isnull(calendar[\"event_name_1\"][x])) == False):\n",
    "           daysBeforeEvent[0][x-1] = 1 \n",
    "            #if first day was an event this row will cause an exception because \"x-1\".\n",
    "            #Since it is not i did not consider for now."
   ]
  },
  {
   "cell_type": "code",
   "execution_count": 13,
   "metadata": {},
   "outputs": [],
   "source": [
    "daysBeforeEventTest = daysBeforeEvent[1941:1969]\n",
    "daysBeforeEvent = daysBeforeEvent[startDay:1941]"
   ]
  },
  {
   "cell_type": "code",
   "execution_count": 14,
   "metadata": {},
   "outputs": [],
   "source": [
    "daysBeforeEvent.columns = [\"oneDayBeforeEvent\"]\n",
    "daysBeforeEvent.index = dt.index"
   ]
  },
  {
   "cell_type": "code",
   "execution_count": 15,
   "metadata": {},
   "outputs": [],
   "source": [
    "dt = pd.concat([dt, daysBeforeEvent], axis = 1)"
   ]
  },
  {
   "source": [
    "---\n",
    "## 資料標準化"
   ],
   "cell_type": "markdown",
   "metadata": {}
  },
  {
   "cell_type": "code",
   "execution_count": 18,
   "metadata": {},
   "outputs": [],
   "source": [
    "from sklearn.preprocessing import MinMaxScaler\n",
    "sc = MinMaxScaler(feature_range = (0, 1))\n",
    "dt_scaled = sc.fit_transform(dt)"
   ]
  },
  {
   "source": [
    "---\n",
    "## 拆分資料"
   ],
   "cell_type": "markdown",
   "metadata": {}
  },
  {
   "cell_type": "code",
   "execution_count": 20,
   "metadata": {},
   "outputs": [],
   "source": [
    "X_train = []\n",
    "y_train = []\n",
    "for i in range(timesteps, 1941 - startDay):\n",
    "    X_train.append(dt_scaled[i-timesteps:i])\n",
    "    y_train.append(dt_scaled[i][0:30490]) \n"
   ]
  },
  {
   "cell_type": "code",
   "execution_count": 21,
   "metadata": {},
   "outputs": [
    {
     "output_type": "stream",
     "name": "stdout",
     "text": [
      "(1577, 14, 30491)\n(1577, 30490)\n"
     ]
    }
   ],
   "source": [
    "X_train = np.array(X_train)\n",
    "y_train = np.array(y_train)\n",
    "print(X_train.shape)\n",
    "print(y_train.shape)"
   ]
  },
  {
   "source": [
    "---\n",
    "## 建構 LSTM Model"
   ],
   "cell_type": "markdown",
   "metadata": {}
  },
  {
   "cell_type": "code",
   "execution_count": 24,
   "metadata": {},
   "outputs": [
    {
     "output_type": "stream",
     "name": "stdout",
     "text": [
      "Epoch 1/32\n",
      "36/36 [==============================] - 29s 278ms/step - loss: 0.0202\n",
      "Epoch 2/32\n",
      "36/36 [==============================] - 10s 279ms/step - loss: 0.0159\n",
      "Epoch 3/32\n",
      "36/36 [==============================] - 10s 280ms/step - loss: 0.0153\n",
      "Epoch 4/32\n",
      "36/36 [==============================] - 10s 280ms/step - loss: 0.0150\n",
      "Epoch 5/32\n",
      "36/36 [==============================] - 10s 280ms/step - loss: 0.0147\n",
      "Epoch 6/32\n",
      "36/36 [==============================] - 10s 281ms/step - loss: 0.0145\n",
      "Epoch 7/32\n",
      "36/36 [==============================] - 10s 278ms/step - loss: 0.0142\n",
      "Epoch 8/32\n",
      "36/36 [==============================] - 10s 280ms/step - loss: 0.0143\n",
      "Epoch 9/32\n",
      "36/36 [==============================] - 10s 279ms/step - loss: 0.0141\n",
      "Epoch 10/32\n",
      "36/36 [==============================] - 10s 280ms/step - loss: 0.0139\n",
      "Epoch 11/32\n",
      "36/36 [==============================] - 10s 280ms/step - loss: 0.0139\n",
      "Epoch 12/32\n",
      "36/36 [==============================] - 10s 279ms/step - loss: 0.0137\n",
      "Epoch 13/32\n",
      "36/36 [==============================] - 10s 280ms/step - loss: 0.0136\n",
      "Epoch 14/32\n",
      "36/36 [==============================] - 10s 280ms/step - loss: 0.0136\n",
      "Epoch 15/32\n",
      "36/36 [==============================] - 10s 280ms/step - loss: 0.0134\n",
      "Epoch 16/32\n",
      "36/36 [==============================] - 10s 280ms/step - loss: 0.0133\n",
      "Epoch 17/32\n",
      "36/36 [==============================] - 10s 281ms/step - loss: 0.0133\n",
      "Epoch 18/32\n",
      "36/36 [==============================] - 10s 279ms/step - loss: 0.0132\n",
      "Epoch 19/32\n",
      "36/36 [==============================] - 10s 280ms/step - loss: 0.0131\n",
      "Epoch 20/32\n",
      "36/36 [==============================] - 10s 279ms/step - loss: 0.0130\n",
      "Epoch 21/32\n",
      "36/36 [==============================] - 10s 280ms/step - loss: 0.0132\n",
      "Epoch 22/32\n",
      "36/36 [==============================] - 10s 280ms/step - loss: 0.0132\n",
      "Epoch 23/32\n",
      "36/36 [==============================] - 10s 280ms/step - loss: 0.0130\n",
      "Epoch 24/32\n",
      "36/36 [==============================] - 10s 280ms/step - loss: 0.0131\n",
      "Epoch 25/32\n",
      "36/36 [==============================] - 10s 280ms/step - loss: 0.0130\n",
      "Epoch 26/32\n",
      "36/36 [==============================] - 10s 280ms/step - loss: 0.0128\n",
      "Epoch 27/32\n",
      "36/36 [==============================] - 10s 280ms/step - loss: 0.0129\n",
      "Epoch 28/32\n",
      "36/36 [==============================] - 10s 279ms/step - loss: 0.0128\n",
      "Epoch 29/32\n",
      "36/36 [==============================] - 10s 281ms/step - loss: 0.0128\n",
      "Epoch 30/32\n",
      "36/36 [==============================] - 10s 280ms/step - loss: 0.0126\n",
      "Epoch 31/32\n",
      "36/36 [==============================] - 10s 279ms/step - loss: 0.0127\n",
      "Epoch 32/32\n",
      "36/36 [==============================] - 10s 277ms/step - loss: 0.0125\n"
     ]
    },
    {
     "output_type": "execute_result",
     "data": {
      "text/plain": [
       "<keras.callbacks.History at 0x7ff9184d5dd8>"
      ]
     },
     "metadata": {},
     "execution_count": 24
    }
   ],
   "source": [
    "# Importing the Keras libraries and packages\n",
    "from keras.models import Sequential\n",
    "from keras.layers import Dense\n",
    "from keras.layers import LSTM\n",
    "from keras.layers import Dropout\n",
    "\n",
    "# Initialising the RNN\n",
    "regressor = Sequential()\n",
    "\n",
    "# Adding the first LSTM layer and some Dropout regularisation\n",
    "layer_1_units=50\n",
    "regressor.add(LSTM(units = layer_1_units, return_sequences = True, input_shape = (X_train.shape[1], X_train.shape[2])))\n",
    "regressor.add(Dropout(0.2))\n",
    "\n",
    "# Adding a third LSTM layer and some Dropout regularisation\n",
    "layer_3_units=400\n",
    "regressor.add(LSTM(units = layer_3_units, return_sequences = True))\n",
    "regressor.add(Dropout(0.2))\n",
    "\n",
    "# Adding a third LSTM layer and some Dropout regularisation\n",
    "layer_3_units=400\n",
    "regressor.add(LSTM(units = layer_3_units))\n",
    "regressor.add(Dropout(0.2))\n",
    "\n",
    "# Adding the output layer\n",
    "regressor.add(Dense(units = 30490))\n",
    "\n",
    "# Compiling the RNN\n",
    "regressor.compile(optimizer = 'adam', loss = 'mean_squared_error')\n",
    "\n",
    "# Fitting the RNN to the Training set\n",
    "epoch_no=32\n",
    "batch_size_RNN=44\n",
    "regressor.fit(X_train, y_train, epochs = epoch_no, batch_size = batch_size_RNN)"
   ]
  },
  {
   "source": [
    "---\n",
    "## 進行預測"
   ],
   "cell_type": "markdown",
   "metadata": {}
  },
  {
   "cell_type": "code",
   "execution_count": 25,
   "metadata": {},
   "outputs": [],
   "source": [
    "inputs= dt[-timesteps:]\n",
    "inputs = sc.transform(inputs)"
   ]
  },
  {
   "cell_type": "code",
   "execution_count": 26,
   "metadata": {},
   "outputs": [],
   "source": [
    "X_test = []\n",
    "X_test.append(inputs[0:timesteps])\n",
    "X_test = np.array(X_test)\n",
    "predictions = []\n",
    "\n",
    "for j in range(timesteps,timesteps + 28):\n",
    "#X_test = np.reshape(X_test, (X_test.shape[0], X_test.shape[1], 1))\n",
    "    predicted_stock_price = regressor.predict(X_test[0,j - timesteps:j].reshape(1, timesteps, 30491))\n",
    "    testInput = np.column_stack((np.array(predicted_stock_price), daysBeforeEventTest[0][1941 + j - timesteps]))\n",
    "    X_test = np.append(X_test, testInput).reshape(1,j + 1,30491)\n",
    "    predicted_stock_price = sc.inverse_transform(testInput)[:,0:30490]\n",
    "    predictions.append(predicted_stock_price)"
   ]
  },
  {
   "source": [
    "--\n",
    "## 輸出預測檔案 (評分用)"
   ],
   "cell_type": "markdown",
   "metadata": {}
  },
  {
   "cell_type": "code",
   "execution_count": 27,
   "metadata": {},
   "outputs": [],
   "source": [
    "import time\n",
    "\n",
    "submission = pd.DataFrame(data=np.array(predictions).reshape(28,30490))\n",
    "\n",
    "submission = submission.T\n",
    "    \n",
    "submission = pd.concat((submission, submission), ignore_index=True)\n",
    "\n",
    "sample_submission = pd.read_csv(dataPath + \"/sample_submission.csv\")\n",
    "    \n",
    "idColumn = sample_submission[[\"id\"]]\n",
    "    \n",
    "submission[[\"id\"]] = idColumn  \n",
    "\n",
    "cols = list(submission.columns)\n",
    "cols = cols[-1:] + cols[:-1]\n",
    "submission = submission[cols]\n",
    "\n",
    "colsdeneme = [\"id\"] + [f\"F{i}\" for i in range (1,29)]\n",
    "\n",
    "submission.columns = colsdeneme\n",
    "\n",
    "currentDateTime = time.strftime(\"%d%m%Y_%H%M%S\")\n",
    "\n",
    "submission.to_csv(\"submission.csv\", index=False)"
   ]
  },
  {
   "cell_type": "code",
   "execution_count": 28,
   "metadata": {},
   "outputs": [
    {
     "output_type": "execute_result",
     "data": {
      "text/plain": [
       "                              id        F1        F2        F3        F4  \\\n",
       "0  HOBBIES_1_001_CA_1_validation  1.245940  1.032498  0.932818  0.947702   \n",
       "1  HOBBIES_1_002_CA_1_validation  0.259987  0.256329  0.236861  0.236116   \n",
       "2  HOBBIES_1_003_CA_1_validation  0.755740  0.524774  0.538674  0.638328   \n",
       "3  HOBBIES_1_004_CA_1_validation  2.152712  1.132408  0.988428  0.957552   \n",
       "4  HOBBIES_1_005_CA_1_validation  1.514396  1.480529  1.419549  1.374193   \n",
       "\n",
       "         F5        F6        F7        F8        F9  ...       F19       F20  \\\n",
       "0  1.094236  1.536372  1.838860  1.435075  1.140363  ...  1.091665  1.303577   \n",
       "1  0.256735  0.319781  0.326544  0.227599  0.231820  ...  0.234194  0.275499   \n",
       "2  0.810554  1.118717  1.367254  1.010991  0.596196  ...  0.795225  0.983962   \n",
       "3  1.133381  1.869931  3.213064  2.964110  1.208111  ...  1.023053  1.348001   \n",
       "4  1.333392  1.287191  1.393267  1.496253  1.448590  ...  1.354166  1.340399   \n",
       "\n",
       "        F21       F22       F23       F24       F25       F26       F27  \\\n",
       "0  1.851533  1.724813  1.273838  1.120029  1.068224  1.080767  1.224417   \n",
       "1  0.360238  0.325392  0.268318  0.257325  0.239781  0.239185  0.267871   \n",
       "2  1.367719  1.299272  0.764088  0.631590  0.683569  0.773542  0.925239   \n",
       "3  2.390964  3.398544  1.717434  1.113550  1.016242  1.014427  1.233648   \n",
       "4  1.354916  1.515732  1.470831  1.456721  1.407388  1.373834  1.360833   \n",
       "\n",
       "        F28  \n",
       "0  1.731668  \n",
       "1  0.351715  \n",
       "2  1.270028  \n",
       "3  2.021408  \n",
       "4  1.363330  \n",
       "\n",
       "[5 rows x 29 columns]"
      ],
      "text/html": "<div>\n<style scoped>\n    .dataframe tbody tr th:only-of-type {\n        vertical-align: middle;\n    }\n\n    .dataframe tbody tr th {\n        vertical-align: top;\n    }\n\n    .dataframe thead th {\n        text-align: right;\n    }\n</style>\n<table border=\"1\" class=\"dataframe\">\n  <thead>\n    <tr style=\"text-align: right;\">\n      <th></th>\n      <th>id</th>\n      <th>F1</th>\n      <th>F2</th>\n      <th>F3</th>\n      <th>F4</th>\n      <th>F5</th>\n      <th>F6</th>\n      <th>F7</th>\n      <th>F8</th>\n      <th>F9</th>\n      <th>...</th>\n      <th>F19</th>\n      <th>F20</th>\n      <th>F21</th>\n      <th>F22</th>\n      <th>F23</th>\n      <th>F24</th>\n      <th>F25</th>\n      <th>F26</th>\n      <th>F27</th>\n      <th>F28</th>\n    </tr>\n  </thead>\n  <tbody>\n    <tr>\n      <th>0</th>\n      <td>HOBBIES_1_001_CA_1_validation</td>\n      <td>1.245940</td>\n      <td>1.032498</td>\n      <td>0.932818</td>\n      <td>0.947702</td>\n      <td>1.094236</td>\n      <td>1.536372</td>\n      <td>1.838860</td>\n      <td>1.435075</td>\n      <td>1.140363</td>\n      <td>...</td>\n      <td>1.091665</td>\n      <td>1.303577</td>\n      <td>1.851533</td>\n      <td>1.724813</td>\n      <td>1.273838</td>\n      <td>1.120029</td>\n      <td>1.068224</td>\n      <td>1.080767</td>\n      <td>1.224417</td>\n      <td>1.731668</td>\n    </tr>\n    <tr>\n      <th>1</th>\n      <td>HOBBIES_1_002_CA_1_validation</td>\n      <td>0.259987</td>\n      <td>0.256329</td>\n      <td>0.236861</td>\n      <td>0.236116</td>\n      <td>0.256735</td>\n      <td>0.319781</td>\n      <td>0.326544</td>\n      <td>0.227599</td>\n      <td>0.231820</td>\n      <td>...</td>\n      <td>0.234194</td>\n      <td>0.275499</td>\n      <td>0.360238</td>\n      <td>0.325392</td>\n      <td>0.268318</td>\n      <td>0.257325</td>\n      <td>0.239781</td>\n      <td>0.239185</td>\n      <td>0.267871</td>\n      <td>0.351715</td>\n    </tr>\n    <tr>\n      <th>2</th>\n      <td>HOBBIES_1_003_CA_1_validation</td>\n      <td>0.755740</td>\n      <td>0.524774</td>\n      <td>0.538674</td>\n      <td>0.638328</td>\n      <td>0.810554</td>\n      <td>1.118717</td>\n      <td>1.367254</td>\n      <td>1.010991</td>\n      <td>0.596196</td>\n      <td>...</td>\n      <td>0.795225</td>\n      <td>0.983962</td>\n      <td>1.367719</td>\n      <td>1.299272</td>\n      <td>0.764088</td>\n      <td>0.631590</td>\n      <td>0.683569</td>\n      <td>0.773542</td>\n      <td>0.925239</td>\n      <td>1.270028</td>\n    </tr>\n    <tr>\n      <th>3</th>\n      <td>HOBBIES_1_004_CA_1_validation</td>\n      <td>2.152712</td>\n      <td>1.132408</td>\n      <td>0.988428</td>\n      <td>0.957552</td>\n      <td>1.133381</td>\n      <td>1.869931</td>\n      <td>3.213064</td>\n      <td>2.964110</td>\n      <td>1.208111</td>\n      <td>...</td>\n      <td>1.023053</td>\n      <td>1.348001</td>\n      <td>2.390964</td>\n      <td>3.398544</td>\n      <td>1.717434</td>\n      <td>1.113550</td>\n      <td>1.016242</td>\n      <td>1.014427</td>\n      <td>1.233648</td>\n      <td>2.021408</td>\n    </tr>\n    <tr>\n      <th>4</th>\n      <td>HOBBIES_1_005_CA_1_validation</td>\n      <td>1.514396</td>\n      <td>1.480529</td>\n      <td>1.419549</td>\n      <td>1.374193</td>\n      <td>1.333392</td>\n      <td>1.287191</td>\n      <td>1.393267</td>\n      <td>1.496253</td>\n      <td>1.448590</td>\n      <td>...</td>\n      <td>1.354166</td>\n      <td>1.340399</td>\n      <td>1.354916</td>\n      <td>1.515732</td>\n      <td>1.470831</td>\n      <td>1.456721</td>\n      <td>1.407388</td>\n      <td>1.373834</td>\n      <td>1.360833</td>\n      <td>1.363330</td>\n    </tr>\n  </tbody>\n</table>\n<p>5 rows × 29 columns</p>\n</div>"
     },
     "metadata": {},
     "execution_count": 28
    }
   ],
   "source": [
    "submission.head()"
   ]
  }
 ]
}